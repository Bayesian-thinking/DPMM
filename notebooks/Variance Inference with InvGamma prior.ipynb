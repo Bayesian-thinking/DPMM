{
 "cells": [
  {
   "cell_type": "code",
   "execution_count": 1,
   "metadata": {
    "collapsed": true
   },
   "outputs": [],
   "source": [
    "# Load packages\n",
    "import numpy as np\n",
    "import matplotlib.pyplot as plt\n",
    "import dpmm\n",
    "%matplotlib inline"
   ]
  },
  {
   "cell_type": "code",
   "execution_count": 2,
   "metadata": {
    "collapsed": true
   },
   "outputs": [],
   "source": [
    "# Make a 1-D Gaussian mixture model with all component means = 0 and specified variances.\n",
    "class gaussV(object):\n",
    "    def __init__(self, V):\n",
    "        self.V = V\n",
    "\n",
    "    def sample(self, size=None):\n",
    "        return np.random.normal(scale=np.sqrt(self.V), size=size)\n",
    "\n",
    "    def __call__(self, x):\n",
    "        return np.exp(-0.5*x**2/self.V)/np.sqrt(2*np.pi*self.V)\n",
    "\n",
    "class MM(object):\n",
    "    def __init__(self, components, proportions):\n",
    "        self.components = components\n",
    "        self.proportions = proportions\n",
    "\n",
    "    def sample(self, size=None):\n",
    "        if size is None:\n",
    "            nums = np.random.multinomial(1, self.proportions)\n",
    "            c = num.index(1) # which class got picked\n",
    "            return self.components[c].sample()\n",
    "        else:\n",
    "            out = np.empty((size,), dtype=float)\n",
    "            nums = np.random.multinomial(size, self.proportions)\n",
    "            i = 0\n",
    "            for component, num in zip(self.components, nums):\n",
    "                out[i:i+num] = component.sample(size=num)\n",
    "                i += num\n",
    "            return out\n",
    "\n",
    "    def __call__(self, x):\n",
    "        return np.sum([p*c(x) for p, c in zip(self.proportions, self.components)], axis=0)\n",
    "\n",
    "    def plot(self, axis=None, **kwargs):\n",
    "        \"\"\" Plot the mixture model pdf.\"\"\"\n",
    "        if axis is None:\n",
    "            axis = plt.gca()\n",
    "        x = np.arange(-2,2,0.01)\n",
    "        y = self(x)\n",
    "        axis.plot(x, y, **kwargs)"
   ]
  },
  {
   "cell_type": "code",
   "execution_count": 3,
   "metadata": {
    "collapsed": true
   },
   "outputs": [],
   "source": [
    "# Mixture model parameters\n",
    "V = [0.3**2, 0.05**2]  # variances\n",
    "p = [0.5, 0.5]   # proportions\n",
    "model = MM([gaussV(V0) for V0 in V], p)"
   ]
  },
  {
   "cell_type": "code",
   "execution_count": 4,
   "metadata": {
    "collapsed": false
   },
   "outputs": [
    {
     "name": "stderr",
     "output_type": "stream",
     "text": [
      "/Users/josh/miniconda2/lib/python2.7/site-packages/matplotlib/figure.py:397: UserWarning: matplotlib is currently using a non-GUI backend, so cannot show the figure\n",
      "  \"matplotlib is currently using a non-GUI backend, \"\n"
     ]
    },
    {
     "data": {
      "image/png": "[encoded data removed]",
      "text/plain": [
       "<matplotlib.figure.Figure at 0x10e480ad0>"
      ]
     },
     "metadata": {},
     "output_type": "display_data"
    }
   ],
   "source": [
    "# Plot the generative distribution\n",
    "f = plt.figure(figsize=(6,4))\n",
    "ax = f.add_subplot(111)\n",
    "model.plot(axis=ax)\n",
    "f.show()"
   ]
  },
  {
   "cell_type": "code",
   "execution_count": 5,
   "metadata": {
    "collapsed": false
   },
   "outputs": [
    {
     "data": {
      "image/png": "[encoded data removed]",
      "text/plain": [
       "<matplotlib.figure.Figure at 0x10e655110>"
      ]
     },
     "metadata": {},
     "output_type": "display_data"
    }
   ],
   "source": [
    "# Draw some samples with which to do inference.\n",
    "data = model.sample(size=100)\n",
    "# Plot with samples\n",
    "f = plt.figure(figsize=(6, 4))\n",
    "ax = f.add_subplot(111)\n",
    "model.plot(axis=ax)\n",
    "for x in data:\n",
    "    ax.axvline(x, alpha=0.1)\n",
    "f.show()"
   ]
  },
  {
   "cell_type": "code",
   "execution_count": 39,
   "metadata": {
    "collapsed": false
   },
   "outputs": [],
   "source": [
    "# Create the Dirichlet Process Mixture Model.\n",
    "# Use the Inverse Gamma prior for a Gaussian with known mean and unknown variance.\n",
    "mu = 0.0  # Known mean\n",
    "alpha = 1.0   # How well we know beta\n",
    "beta = 100.0  # 1/typical-variance\n",
    "dp_alpha = 0.1 # Dirichlet Process clustering parameter.  Set lower to infer fewer components.\n",
    "cp = dpmm.InvGamma(alpha, beta, mu)\n",
    "dp = dpmm.DPMM(cp, dp_alpha, data)"
   ]
  },
  {
   "cell_type": "code",
   "execution_count": 40,
   "metadata": {
    "collapsed": false
   },
   "outputs": [],
   "source": [
    "# Burn in\n",
    "dp.update(100)"
   ]
  },
  {
   "cell_type": "code",
   "execution_count": 41,
   "metadata": {
    "collapsed": true
   },
   "outputs": [],
   "source": [
    "phis = []\n",
    "nphis = []\n",
    "# Sample\n",
    "for i in xrange(50):\n",
    "    dp.update(10)\n",
    "    phis.append(list(dp.phi)) # Need list() to get a copy\n",
    "    nphis.append(list(dp.nphi))"
   ]
  },
  {
   "cell_type": "code",
   "execution_count": 42,
   "metadata": {
    "collapsed": true
   },
   "outputs": [],
   "source": [
    "def plot_sample(phi, nphi, axis=None, **kwargs):\n",
    "    x = np.arange(-1, 1, 0.01)\n",
    "    y = np.zeros_like(x)\n",
    "    for ph, n in zip(phi, nphi):\n",
    "        y += n*np.exp(-0.5*x**2/ph)/np.sqrt(2*np.pi*ph)/sum(nphi)\n",
    "    if axis is None:\n",
    "        axis = plt.gca()\n",
    "    axis.plot(x, y, **kwargs)"
   ]
  },
  {
   "cell_type": "code",
   "execution_count": 43,
   "metadata": {
    "collapsed": false
   },
   "outputs": [
    {
     "data": {
      "image/png": "[encoded data removed]",
      "text/plain": [
       "<matplotlib.figure.Figure at 0x10e66d550>"
      ]
     },
     "metadata": {},
     "output_type": "display_data"
    }
   ],
   "source": [
    "# Plot with samples\n",
    "f = plt.figure(figsize=(6, 4))\n",
    "ax = f.add_subplot(111)\n",
    "model.plot(axis=ax)\n",
    "for x in data:\n",
    "    ax.axvline(x, alpha=0.1)\n",
    "for phi, nphi in zip(phis, nphis):\n",
    "    plot_sample(phi, nphi, axis=ax, alpha=0.1, c='k')\n",
    "ax.set_xlim(-1,1)\n",
    "ax.hist(data, 20, alpha=0.3, color='r', normed=True)\n",
    "f.show()"
   ]
  },
  {
   "cell_type": "code",
   "execution_count": 52,
   "metadata": {
    "collapsed": false
   },
   "outputs": [],
   "source": [
    "# Try a large-ish data set.\n",
    "# For WL, we can concatenate the e1 and e2 samples together after deshearing.  Then we have 20000 e samples per\n",
    "# GREAT3 field.\n",
    "data = model.sample(size=20000)\n",
    "mu = 0.0\n",
    "alpha = 1.0\n",
    "beta = 100.0\n",
    "dp_alpha = 0.1\n",
    "cp = dpmm.InvGamma(alpha, beta, mu)\n",
    "dp = dpmm.DPMM(cp, dp_alpha, data)"
   ]
  },
  {
   "cell_type": "code",
   "execution_count": 53,
   "metadata": {
    "collapsed": false
   },
   "outputs": [
    {
     "name": "stdout",
     "output_type": "stream",
     "text": [
      " "
     ]
    }
   ],
   "source": [
    "prun dp.update(100) # about 35 sec"
   ]
  },
  {
   "cell_type": "code",
   "execution_count": 54,
   "metadata": {
    "collapsed": true
   },
   "outputs": [],
   "source": [
    "# a few minutes to generate 500 samples and store every 10th one (i.e., store 50).\n",
    "phis = []\n",
    "nphis = []\n",
    "# Sample\n",
    "for i in xrange(50):\n",
    "    dp.update(10)\n",
    "    phis.append(list(dp.phi)) # Need list() to get a copy\n",
    "    nphis.append(list(dp.nphi))"
   ]
  },
  {
   "cell_type": "code",
   "execution_count": 55,
   "metadata": {
    "collapsed": false
   },
   "outputs": [
    {
     "data": {
      "image/png": "[encoded data removed]",
      "text/plain": [
       "<matplotlib.figure.Figure at 0x109840a10>"
      ]
     },
     "metadata": {},
     "output_type": "display_data"
    }
   ],
   "source": [
    "# Plot with samples\n",
    "f = plt.figure(figsize=(6, 4))\n",
    "ax = f.add_subplot(111)\n",
    "model.plot(axis=ax)\n",
    "# for x in data:\n",
    "#     ax.axvline(x, alpha=0.002)\n",
    "for phi, nphi in zip(phis, nphis):\n",
    "    plot_sample(phi, nphi, axis=ax, alpha=0.1, c='k')\n",
    "ax.set_xlim(-1, 1)\n",
    "ax.hist(data, 100, alpha=0.3, color='r', normed=True)\n",
    "f.show()"
   ]
  },
  {
   "cell_type": "code",
   "execution_count": 56,
   "metadata": {
    "collapsed": false
   },
   "outputs": [
    {
     "data": {
      "image/png": "[encoded data removed]",
      "text/plain": [
       "<matplotlib.figure.Figure at 0x10dd01990>"
      ]
     },
     "metadata": {},
     "output_type": "display_data"
    }
   ],
   "source": [
    "# Zoom in\n",
    "f = plt.figure(figsize=(6, 4))\n",
    "ax = f.add_subplot(111)\n",
    "model.plot(axis=ax)\n",
    "# for x in data:\n",
    "#     ax.axvline(x, alpha=0.002)\n",
    "for phi, nphi in zip(phis, nphis):\n",
    "    plot_sample(phi, nphi, axis=ax, alpha=0.1, c='k')\n",
    "ax.set_xlim(-0.1, 0.1)\n",
    "ax.hist(data, 1000, alpha=0.3, color='r', normed=True)\n",
    "f.show()"
   ]
  },
  {
   "cell_type": "code",
   "execution_count": 57,
   "metadata": {
    "collapsed": false
   },
   "outputs": [
    {
     "data": {
      "text/plain": [
       "[[9818, 10182],\n",
       " [9929, 10069, 2],\n",
       " [9938, 10062],\n",
       " [9834, 10166],\n",
       " [9880, 10119, 1],\n",
       " [9839, 10122, 39],\n",
       " [9893, 10087, 20],\n",
       " [9839, 10137, 18, 6],\n",
       " [9946, 10018, 36],\n",
       " [9943, 9975, 82],\n",
       " [9842, 9942, 216],\n",
       " [9771, 9855, 374],\n",
       " [9966, 9805, 229],\n",
       " [9739, 10083, 178],\n",
       " [9863, 10015, 122],\n",
       " [9870, 10006, 106, 18],\n",
       " [9954, 9924, 82, 35, 5],\n",
       " [9993, 9900, 62, 33, 12],\n",
       " [9776, 10006, 53, 18, 63, 84],\n",
       " [9865, 10009, 1, 54, 71],\n",
       " [9773, 9988, 81, 158],\n",
       " [9936, 9882, 29, 153],\n",
       " [9842, 10060, 2, 96],\n",
       " [9944, 10037, 19],\n",
       " [9895, 10093, 12],\n",
       " [9838, 10162],\n",
       " [9798, 10202],\n",
       " [9857, 10137, 6],\n",
       " [9857, 10143],\n",
       " [10015, 9985],\n",
       " [9999, 10001],\n",
       " [9832, 10168],\n",
       " [9932, 10068],\n",
       " [10013, 9985, 2],\n",
       " [9911, 10087, 2],\n",
       " [9918, 10073, 9],\n",
       " [9893, 10107],\n",
       " [9989, 10011],\n",
       " [9926, 10074],\n",
       " [9907, 10093],\n",
       " [9968, 10029, 3],\n",
       " [9872, 10128],\n",
       " [9927, 10070, 3],\n",
       " [9905, 10081, 14],\n",
       " [9951, 10044, 5],\n",
       " [9902, 10098],\n",
       " [9870, 10130],\n",
       " [10000, 9994, 5, 1],\n",
       " [9994, 10005, 1],\n",
       " [10000, 9999, 1]]"
      ]
     },
     "execution_count": 57,
     "metadata": {},
     "output_type": "execute_result"
    }
   ],
   "source": [
    "nphis"
   ]
  },
  {
   "cell_type": "code",
   "execution_count": null,
   "metadata": {
    "collapsed": true
   },
   "outputs": [],
   "source": []
  }
 ],
 "metadata": {
  "kernelspec": {
   "display_name": "Python 2",
   "language": "python",
   "name": "python2"
  },
  "language_info": {
   "codemirror_mode": {
    "name": "ipython",
    "version": 2
   },
   "file_extension": ".py",
   "mimetype": "text/x-python",
   "name": "python",
   "nbconvert_exporter": "python",
   "pygments_lexer": "ipython2",
   "version": "2.7.11"
  }
 },
 "nbformat": 4,
 "nbformat_minor": 0
}
