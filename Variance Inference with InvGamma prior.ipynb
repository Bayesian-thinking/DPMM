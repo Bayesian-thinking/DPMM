{
 "cells": [
  {
   "cell_type": "code",
   "execution_count": 1,
   "metadata": {
    "collapsed": true
   },
   "outputs": [],
   "source": [
    "import numpy as np\n",
    "import matplotlib.pyplot as plt\n",
    "import dpmm\n",
    "import prior\n",
    "%matplotlib inline"
   ]
  },
  {
   "cell_type": "code",
   "execution_count": 2,
   "metadata": {
    "collapsed": true
   },
   "outputs": [],
   "source": [
    "# Make a mixture model with all means = 0, but with unknown variance.\n",
    "class gaussV(object):\n",
    "    def __init__(self, V):\n",
    "        self.V = V\n",
    "\n",
    "    def sample(self, size=None):\n",
    "        return np.random.normal(scale=np.sqrt(self.V), size=size)\n",
    "\n",
    "    def __call__(self, x):\n",
    "        return np.exp(-0.5*x**2/self.V)/np.sqrt(2*np.pi*self.V)\n",
    "\n",
    "class MM(object):\n",
    "    def __init__(self, components, proportions):\n",
    "        self.components = components\n",
    "        self.proportions = proportions\n",
    "\n",
    "    def sample(self, size=None):\n",
    "        if size is None:\n",
    "            nums = np.random.multinomial(1, self.proportions)\n",
    "            c = num.index(1) # which class got picked\n",
    "            return self.components[c].sample()\n",
    "        else:\n",
    "            out = np.empty((size,), dtype=float)\n",
    "            nums = np.random.multinomial(size, self.proportions)\n",
    "            i = 0\n",
    "            for component, num in zip(self.components, nums):\n",
    "                out[i:i+num] = component.sample(size=num)\n",
    "                i += num\n",
    "            return out\n",
    "\n",
    "    def __call__(self, x):\n",
    "        return np.sum([p*c(x) for p, c in zip(self.proportions, self.components)], axis=0)\n",
    "\n",
    "    def plot(self, axis=None, **kwargs):\n",
    "        \"\"\" Plot the mixture model pdf.\"\"\"\n",
    "        if axis is None:\n",
    "            axis = plt.gca()\n",
    "        x = np.arange(-2,2,0.01)\n",
    "        y = self(x)\n",
    "        axis.plot(x, y, **kwargs)"
   ]
  },
  {
   "cell_type": "code",
   "execution_count": 3,
   "metadata": {
    "collapsed": true
   },
   "outputs": [],
   "source": [
    "# Mixture model parameters\n",
    "V = [0.3**2, 0.05**2]  # variances\n",
    "p = [0.5, 0.5]   # proportions\n",
    "model = MM([gaussV(V0) for V0 in V], p)"
   ]
  },
  {
   "cell_type": "code",
   "execution_count": 4,
   "metadata": {
    "collapsed": false
   },
   "outputs": [
    {
     "name": "stderr",
     "output_type": "stream",
     "text": [
      "/Users/josh/miniconda2/lib/python2.7/site-packages/matplotlib/figure.py:387: UserWarning: matplotlib is currently using a non-GUI backend, so cannot show the figure\n",
      "  \"matplotlib is currently using a non-GUI backend, \"\n"
     ]
    },
    {
     "data": {
      "image/png": "[encoded data removed]",
      "text/plain": [
       "<matplotlib.figure.Figure at 0x109cd4b90>"
      ]
     },
     "metadata": {},
     "output_type": "display_data"
    }
   ],
   "source": [
    "f = plt.figure(figsize=(6,4))\n",
    "ax = f.add_subplot(111)\n",
    "model.plot(axis=ax)\n",
    "f.show()"
   ]
  },
  {
   "cell_type": "code",
   "execution_count": 5,
   "metadata": {
    "collapsed": false
   },
   "outputs": [
    {
     "data": {
      "image/png": "[encoded data removed]",
      "text/plain": [
       "<matplotlib.figure.Figure at 0x109cd4ad0>"
      ]
     },
     "metadata": {},
     "output_type": "display_data"
    }
   ],
   "source": [
    "# Draw some samples with which to do inference.\n",
    "data = model.sample(size=100)\n",
    "# Plot with samples\n",
    "f = plt.figure(figsize=(6, 4))\n",
    "ax = f.add_subplot(111)\n",
    "model.plot(axis=ax)\n",
    "for x in data:\n",
    "    ax.axvline(x, alpha=0.1)\n",
    "f.show()"
   ]
  },
  {
   "cell_type": "code",
   "execution_count": 6,
   "metadata": {
    "collapsed": false
   },
   "outputs": [],
   "source": [
    "# Try algorithm 2\n",
    "mu = 0.0\n",
    "alpha = 10.0\n",
    "beta = 30.0\n",
    "cp = prior.InvGamma(alpha, beta, mu)\n",
    "dp = dpmm.DPMM2(cp, 0.1, data)"
   ]
  },
  {
   "cell_type": "code",
   "execution_count": 7,
   "metadata": {
    "collapsed": false
   },
   "outputs": [],
   "source": [
    "dp.update(500)"
   ]
  },
  {
   "cell_type": "code",
   "execution_count": 8,
   "metadata": {
    "collapsed": true
   },
   "outputs": [],
   "source": [
    "phis = []\n",
    "nphis = []\n",
    "# Sample\n",
    "for i in xrange(50):\n",
    "    dp.update(10)\n",
    "    phis.append(list(dp.phi))\n",
    "    nphis.append(list(dp.nphi))"
   ]
  },
  {
   "cell_type": "code",
   "execution_count": 9,
   "metadata": {
    "collapsed": false
   },
   "outputs": [
    {
     "data": {
      "image/png": "[encoded data removed]",
      "text/plain": [
       "<matplotlib.figure.Figure at 0x10a40bb90>"
      ]
     },
     "metadata": {},
     "output_type": "display_data"
    }
   ],
   "source": [
    "def plot_sample(phi, nphi, axis=None, **kwargs):\n",
    "    x = np.arange(-1, 1, 0.01)\n",
    "    y = np.zeros_like(x)\n",
    "    for ph, n in zip(phi, nphi):\n",
    "        y += n*np.exp(-0.5*x**2/ph)/np.sqrt(2*np.pi*ph)/sum(nphi)\n",
    "    if axis is None:\n",
    "        axis = plt.gca()\n",
    "    axis.plot(x, y, **kwargs)\n",
    "\n",
    "# Plot with samples\n",
    "f = plt.figure(figsize=(6, 4))\n",
    "ax = f.add_subplot(111)\n",
    "model.plot(axis=ax)\n",
    "for x in data:\n",
    "    ax.axvline(x, alpha=0.1)\n",
    "for phi, nphi in zip(phis, nphis):\n",
    "    plot_sample(phi, nphi, axis=ax, alpha=0.1, c='k')\n",
    "ax.set_xlim(-1,1)\n",
    "ax.hist(data, 20, alpha=0.3, color='r', normed=True)\n",
    "f.show()"
   ]
  },
  {
   "cell_type": "code",
   "execution_count": 10,
   "metadata": {
    "collapsed": true
   },
   "outputs": [],
   "source": [
    "# Try a large-ish data set.\n",
    "# For WL, we can simply concatenate the e1 and e2 samples together after deshearing.  Then we have 20000 e samples per\n",
    "# GREAT3 field.\n",
    "data = model.sample(size=20000)\n",
    "mu = 0.0\n",
    "alpha = 10.0\n",
    "beta = 30.0\n",
    "cp = prior.InvGamma(alpha, beta, mu)\n",
    "dp = dpmm.DPMM2(cp, 0.1, data)"
   ]
  },
  {
   "cell_type": "code",
   "execution_count": 13,
   "metadata": {
    "collapsed": false
   },
   "outputs": [],
   "source": [
    "dp.update(100) # about 90 sec"
   ]
  },
  {
   "cell_type": "code",
   "execution_count": 14,
   "metadata": {
    "collapsed": true
   },
   "outputs": [],
   "source": [
    "# a few minutes to generate 500 samples.  Only save every 10th sample.\n",
    "phis = []\n",
    "nphis = []\n",
    "# Sample\n",
    "for i in xrange(50):\n",
    "    dp.update(10)\n",
    "    phis.append(list(dp.phi))\n",
    "    nphis.append(list(dp.nphi))"
   ]
  },
  {
   "cell_type": "code",
   "execution_count": 15,
   "metadata": {
    "collapsed": false
   },
   "outputs": [
    {
     "data": {
      "image/png": "[encoded data removed]",
      "text/plain": [
       "<matplotlib.figure.Figure at 0x10a438550>"
      ]
     },
     "metadata": {},
     "output_type": "display_data"
    }
   ],
   "source": [
    "# Plot with samples\n",
    "f = plt.figure(figsize=(6, 4))\n",
    "ax = f.add_subplot(111)\n",
    "model.plot(axis=ax)\n",
    "for x in data:\n",
    "    ax.axvline(x, alpha=0.002)\n",
    "for phi, nphi in zip(phis, nphis):\n",
    "    plot_sample(phi, nphi, axis=ax, alpha=0.1, c='k')\n",
    "ax.set_xlim(-1,1)\n",
    "ax.hist(data, 100, alpha=0.3, color='r', normed=True)\n",
    "f.show()"
   ]
  },
  {
   "cell_type": "code",
   "execution_count": null,
   "metadata": {
    "collapsed": true
   },
   "outputs": [],
   "source": []
  }
 ],
 "metadata": {
  "kernelspec": {
   "display_name": "Python 2",
   "language": "python",
   "name": "python2"
  },
  "language_info": {
   "codemirror_mode": {
    "name": "ipython",
    "version": 2
   },
   "file_extension": ".py",
   "mimetype": "text/x-python",
   "name": "python",
   "nbconvert_exporter": "python",
   "pygments_lexer": "ipython2",
   "version": "2.7.11"
  }
 },
 "nbformat": 4,
 "nbformat_minor": 0
}
